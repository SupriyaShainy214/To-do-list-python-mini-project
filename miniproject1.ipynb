{
 "cells": [
  {
   "cell_type": "code",
   "execution_count": null,
   "metadata": {},
   "outputs": [
    {
     "name": "stdout",
     "output_type": "stream",
     "text": [
      "Task 'Task1' updated successfully.\n",
      "\n",
      "Current Tasks list:\n",
      "Task1: Complete morning prayers - Status: completed\n",
      "Task2: Finish washings - Status: Not done\n",
      "Task3: Have breakfast and go to college - Status: Not done\n",
      "Task4: Have lunch and finish household work - Status: Not done\n",
      "Task5: Attend evening classes - Status: Not done\n",
      "Task6: Running - Status: Not done\n",
      "Task not found.\n"
     ]
    }
   ],
   "source": [
    "tasks = {\n",
    "    \"Task1\": {\"description\": \"Complete morning prayers\", \"status\": \"Not done\"},\n",
    "    \"Task2\": {\"description\": \"Finish washings\", \"status\": \"Not done\"},\n",
    "    \"Task3\": {\"description\": \"Have breakfast and go to college\", \"status\": \"Not done\"},\n",
    "    \"Task4\": {\"description\": \"Have lunch and finish household work\", \"status\": \"Not done\"},\n",
    "    \"Task5\": {\"description\": \"Attend evening classes\", \"status\": \"Not done\"},\n",
    "}\n",
    "\n",
    "def display_tasks():\n",
    "    \"\"\"Function to display all tasks.\"\"\"\n",
    "    print(\"\\nCurrent Tasks list:\")\n",
    "    for task, details in tasks.items():\n",
    "        print(f\"{task}: {details['description']} - Status: {details['status']}\")\n",
    "\n",
    "# Main loop for user inputs\n",
    "while True:\n",
    "    value = input(\"\\nEnter your choice (see-create-update-delete-exit): \")\n",
    "    \n",
    "    # To see the tasks\n",
    "    if value == \"see\":\n",
    "        display_tasks()\n",
    "    \n",
    "    # To create new tasks\n",
    "    elif value == \"create\":\n",
    "        task_name = input(\"Enter a new task name: \")\n",
    "        task_description = input(\"Enter the task description: \")\n",
    "        tasks[task_name] = {\"description\": task_description, \"status\": \"Not done\"}\n",
    "        print(f\"Task '{task_name}' created successfully.\")\n",
    "        display_tasks()  # Display updated tasks\n",
    "    \n",
    "    # To update the tasks\n",
    "    elif value == \"update\":\n",
    "        task_name = input(\"Enter the task name to update: \")\n",
    "        if task_name in tasks:\n",
    "            new_description = input(\"Enter new task description: \")\n",
    "            new_status = input(\"Enter new status (completed/not done): \").lower()\n",
    "            tasks[task_name][\"description\"] = new_description\n",
    "            tasks[task_name][\"status\"] = new_status\n",
    "            print(f\"Task '{task_name}' updated successfully.\")\n",
    "            display_tasks()\n",
    "        else:\n",
    "            print(\"Task not found.\")\n",
    "    \n",
    "    # To delete the tasks\n",
    "    elif value == \"delete\":\n",
    "        task_name = input(\"Enter the task name to delete: \")\n",
    "        if task_name in tasks:\n",
    "            del tasks[task_name]\n",
    "            print(f\"Task '{task_name}' deleted successfully.\")\n",
    "        else:\n",
    "            print(\"Task not found.\")\n",
    "        display_tasks()  # Display updated tasks\n"
   ]
  }
 ],
 "metadata": {
  "kernelspec": {
   "display_name": "Python 3",
   "language": "python",
   "name": "python3"
  },
  "language_info": {
   "codemirror_mode": {
    "name": "ipython",
    "version": 3
   },
   "file_extension": ".py",
   "mimetype": "text/x-python",
   "name": "python",
   "nbconvert_exporter": "python",
   "pygments_lexer": "ipython3",
   "version": "3.11.9"
  }
 },
 "nbformat": 4,
 "nbformat_minor": 2
}
